{
 "cells": [
  {
   "cell_type": "markdown",
   "metadata": {},
   "source": [
    "### Air Traffic Control Python Programe"
   ]
  },
  {
   "cell_type": "markdown",
   "metadata": {},
   "source": [
    "Design of an air traffic control unit with the following brief:\n",
    "\n",
    "The runway should be either free or busy, and each plane should request for landing - if the plane is given permission for landing the runway should be changed to busy and no plane should be given access to that runway. \n",
    "\n",
    "- a. Make a list of free runways free_run_ways = [3,4,5] \n",
    "- b. Make a list of busy runways. busy_run_ways = [1,2] \n",
    "- c. when pilot requests for landing give him runway from free runway and remove it from free and add to busy. \n",
    "  - The runway has given: 4 \n",
    "  - free_run_ways = [3,5] \n",
    "  - busy_run_ways = [1,2,4] \n",
    "- d. If the busy runway is given raise warning. \n",
    "  - WARNING run way busy \n",
    "- e. On landing remove runway from busy and add to free runway as landed: YES \n",
    " "
   ]
  },
  {
   "cell_type": "code",
   "execution_count": 16,
   "metadata": {},
   "outputs": [
    {
     "name": "stdout",
     "output_type": "stream",
     "text": [
      "Enter the runway which is convinent for landing: 4\n",
      "The Runway 4 as assigned to the Pilot.\n",
      "\n",
      "Free Runways are:  [3, 5]\n",
      "Busy Runways are:  [1, 2, 4]\n",
      "\n",
      "Is the plane landed or not? Kindly enter (Yes or No) : No\n",
      "\n",
      "Free Runways are:  [3, 5]\n",
      "Busy Runways are:  [1, 2, 4]\n"
     ]
    }
   ],
   "source": [
    "# Python code:\n",
    "busy_run_ways = [1,2]\n",
    "free_run_ways = [3,4,5]\n",
    "x = int(input(\"Enter the runway which is convinent for landing: \"))\n",
    "condition = True\n",
    "while True:\n",
    "    if x in free_run_ways:\n",
    "        y = free_run_ways.index(x)\n",
    "        free_run_ways.pop(y)\n",
    "        busy_run_ways.append(x)\n",
    "        print(\"The Runway\", x, \"as assigned to the Pilot.\")\n",
    "        print()\n",
    "        print(\"Free Runways are: \", free_run_ways)\n",
    "        print(\"Busy Runways are: \", busy_run_ways)\n",
    "        print()\n",
    "        landing = str(input(\"Is the plane landed or not? Kindly enter (Yes or No) : \"))\n",
    "        if landing == \"Yes\":\n",
    "            y = busy_run_ways.index(x)\n",
    "            busy_run_ways.pop(y)\n",
    "            free_run_ways.append(x)\n",
    "            print()\n",
    "            print(\"Free Runways are: \", free_run_ways)\n",
    "            print(\"Busy Runways are: \", busy_run_ways)\n",
    "            \n",
    "        elif landing == \"No\":\n",
    "            print()\n",
    "            print(\"Free Runways are: \", free_run_ways)\n",
    "            print(\"Busy Runways are: \", busy_run_ways)\n",
    "        else:\n",
    "            print(\"Invalid Input\")\n",
    "    else:\n",
    "        print(\"Warning: The runway is busy..!\")\n",
    "    break          "
   ]
  }
 ],
 "metadata": {
  "kernelspec": {
   "display_name": "Python 3",
   "language": "python",
   "name": "python3"
  },
  "language_info": {
   "codemirror_mode": {
    "name": "ipython",
    "version": 3
   },
   "file_extension": ".py",
   "mimetype": "text/x-python",
   "name": "python",
   "nbconvert_exporter": "python",
   "pygments_lexer": "ipython3",
   "version": "3.7.4"
  }
 },
 "nbformat": 4,
 "nbformat_minor": 2
}
